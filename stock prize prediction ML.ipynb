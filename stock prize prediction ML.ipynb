{
 "cells": [
  {
   "cell_type": "code",
   "execution_count": 7,
   "id": "7d6102bd",
   "metadata": {},
   "outputs": [],
   "source": [
    "import numpy as np\n",
    "import pandas as pd\n",
    "from sklearn.model_selection import train_test_split\n",
    "from sklearn.linear_model import LinearRegression\n",
    "from sklearn.ensemble import RandomForestRegressor\n",
    "from sklearn.svm import SVR\n",
    "from sklearn.metrics import mean_squared_error, r2_score\n",
    "import matplotlib.pyplot as plt\n"
   ]
  },
  {
   "cell_type": "code",
   "execution_count": 8,
   "id": "902148d4",
   "metadata": {},
   "outputs": [],
   "source": [
    "df=pd.read_csv(\"C:/Users/Don Augwin/OneDrive/Datasets/TATASTEEL.NS.csv\")"
   ]
  },
  {
   "cell_type": "code",
   "execution_count": 9,
   "id": "baf612f8",
   "metadata": {},
   "outputs": [
    {
     "data": {
      "text/html": [
       "<div>\n",
       "<style scoped>\n",
       "    .dataframe tbody tr th:only-of-type {\n",
       "        vertical-align: middle;\n",
       "    }\n",
       "\n",
       "    .dataframe tbody tr th {\n",
       "        vertical-align: top;\n",
       "    }\n",
       "\n",
       "    .dataframe thead th {\n",
       "        text-align: right;\n",
       "    }\n",
       "</style>\n",
       "<table border=\"1\" class=\"dataframe\">\n",
       "  <thead>\n",
       "    <tr style=\"text-align: right;\">\n",
       "      <th></th>\n",
       "      <th>Date</th>\n",
       "      <th>Open</th>\n",
       "      <th>High</th>\n",
       "      <th>Low</th>\n",
       "      <th>Close</th>\n",
       "      <th>Adj Close</th>\n",
       "      <th>Volume</th>\n",
       "    </tr>\n",
       "  </thead>\n",
       "  <tbody>\n",
       "    <tr>\n",
       "      <th>0</th>\n",
       "      <td>01-01-1996</td>\n",
       "      <td>11.172855</td>\n",
       "      <td>11.214964</td>\n",
       "      <td>11.035300</td>\n",
       "      <td>11.186892</td>\n",
       "      <td>2.487110</td>\n",
       "      <td>10242229.0</td>\n",
       "    </tr>\n",
       "    <tr>\n",
       "      <th>1</th>\n",
       "      <td>02-01-1996</td>\n",
       "      <td>11.172855</td>\n",
       "      <td>11.214964</td>\n",
       "      <td>10.951082</td>\n",
       "      <td>10.979155</td>\n",
       "      <td>2.440924</td>\n",
       "      <td>16954313.0</td>\n",
       "    </tr>\n",
       "    <tr>\n",
       "      <th>2</th>\n",
       "      <td>03-01-1996</td>\n",
       "      <td>10.979155</td>\n",
       "      <td>11.229000</td>\n",
       "      <td>10.951082</td>\n",
       "      <td>10.981962</td>\n",
       "      <td>2.441549</td>\n",
       "      <td>13514114.0</td>\n",
       "    </tr>\n",
       "    <tr>\n",
       "      <th>3</th>\n",
       "      <td>04-01-1996</td>\n",
       "      <td>10.807913</td>\n",
       "      <td>10.807913</td>\n",
       "      <td>10.386825</td>\n",
       "      <td>10.633863</td>\n",
       "      <td>2.364159</td>\n",
       "      <td>34785820.0</td>\n",
       "    </tr>\n",
       "    <tr>\n",
       "      <th>4</th>\n",
       "      <td>05-01-1996</td>\n",
       "      <td>10.504730</td>\n",
       "      <td>10.555260</td>\n",
       "      <td>10.316644</td>\n",
       "      <td>10.423319</td>\n",
       "      <td>2.317349</td>\n",
       "      <td>30138033.0</td>\n",
       "    </tr>\n",
       "  </tbody>\n",
       "</table>\n",
       "</div>"
      ],
      "text/plain": [
       "         Date       Open       High        Low      Close  Adj Close  \\\n",
       "0  01-01-1996  11.172855  11.214964  11.035300  11.186892   2.487110   \n",
       "1  02-01-1996  11.172855  11.214964  10.951082  10.979155   2.440924   \n",
       "2  03-01-1996  10.979155  11.229000  10.951082  10.981962   2.441549   \n",
       "3  04-01-1996  10.807913  10.807913  10.386825  10.633863   2.364159   \n",
       "4  05-01-1996  10.504730  10.555260  10.316644  10.423319   2.317349   \n",
       "\n",
       "       Volume  \n",
       "0  10242229.0  \n",
       "1  16954313.0  \n",
       "2  13514114.0  \n",
       "3  34785820.0  \n",
       "4  30138033.0  "
      ]
     },
     "execution_count": 9,
     "metadata": {},
     "output_type": "execute_result"
    }
   ],
   "source": [
    "df.head()"
   ]
  },
  {
   "cell_type": "code",
   "execution_count": 10,
   "id": "01eebded",
   "metadata": {},
   "outputs": [
    {
     "data": {
      "text/html": [
       "<div>\n",
       "<style scoped>\n",
       "    .dataframe tbody tr th:only-of-type {\n",
       "        vertical-align: middle;\n",
       "    }\n",
       "\n",
       "    .dataframe tbody tr th {\n",
       "        vertical-align: top;\n",
       "    }\n",
       "\n",
       "    .dataframe thead th {\n",
       "        text-align: right;\n",
       "    }\n",
       "</style>\n",
       "<table border=\"1\" class=\"dataframe\">\n",
       "  <thead>\n",
       "    <tr style=\"text-align: right;\">\n",
       "      <th></th>\n",
       "      <th>Open</th>\n",
       "      <th>High</th>\n",
       "      <th>Low</th>\n",
       "      <th>Close</th>\n",
       "      <th>Adj Close</th>\n",
       "      <th>Volume</th>\n",
       "    </tr>\n",
       "  </thead>\n",
       "  <tbody>\n",
       "    <tr>\n",
       "      <th>count</th>\n",
       "      <td>6960.000000</td>\n",
       "      <td>6960.000000</td>\n",
       "      <td>6960.000000</td>\n",
       "      <td>6960.000000</td>\n",
       "      <td>6960.000000</td>\n",
       "      <td>6.960000e+03</td>\n",
       "    </tr>\n",
       "    <tr>\n",
       "      <th>mean</th>\n",
       "      <td>38.829010</td>\n",
       "      <td>39.443728</td>\n",
       "      <td>38.134010</td>\n",
       "      <td>38.759588</td>\n",
       "      <td>16.588219</td>\n",
       "      <td>6.932547e+07</td>\n",
       "    </tr>\n",
       "    <tr>\n",
       "      <th>std</th>\n",
       "      <td>30.692635</td>\n",
       "      <td>31.099186</td>\n",
       "      <td>30.207740</td>\n",
       "      <td>30.637873</td>\n",
       "      <td>22.045341</td>\n",
       "      <td>5.808903e+07</td>\n",
       "    </tr>\n",
       "    <tr>\n",
       "      <th>min</th>\n",
       "      <td>3.705570</td>\n",
       "      <td>3.910499</td>\n",
       "      <td>3.705570</td>\n",
       "      <td>3.775751</td>\n",
       "      <td>0.873765</td>\n",
       "      <td>0.000000e+00</td>\n",
       "    </tr>\n",
       "    <tr>\n",
       "      <th>25%</th>\n",
       "      <td>10.675270</td>\n",
       "      <td>10.807913</td>\n",
       "      <td>10.480868</td>\n",
       "      <td>10.607896</td>\n",
       "      <td>2.386555</td>\n",
       "      <td>3.254723e+07</td>\n",
       "    </tr>\n",
       "    <tr>\n",
       "      <th>50%</th>\n",
       "      <td>34.914051</td>\n",
       "      <td>35.444186</td>\n",
       "      <td>34.312809</td>\n",
       "      <td>34.850887</td>\n",
       "      <td>12.086423</td>\n",
       "      <td>5.339005e+07</td>\n",
       "    </tr>\n",
       "    <tr>\n",
       "      <th>75%</th>\n",
       "      <td>51.866982</td>\n",
       "      <td>52.586300</td>\n",
       "      <td>51.076497</td>\n",
       "      <td>51.834828</td>\n",
       "      <td>18.565130</td>\n",
       "      <td>8.688652e+07</td>\n",
       "    </tr>\n",
       "    <tr>\n",
       "      <th>max</th>\n",
       "      <td>161.486557</td>\n",
       "      <td>161.486557</td>\n",
       "      <td>161.486557</td>\n",
       "      <td>161.486557</td>\n",
       "      <td>131.750000</td>\n",
       "      <td>6.428460e+08</td>\n",
       "    </tr>\n",
       "  </tbody>\n",
       "</table>\n",
       "</div>"
      ],
      "text/plain": [
       "              Open         High          Low        Close    Adj Close  \\\n",
       "count  6960.000000  6960.000000  6960.000000  6960.000000  6960.000000   \n",
       "mean     38.829010    39.443728    38.134010    38.759588    16.588219   \n",
       "std      30.692635    31.099186    30.207740    30.637873    22.045341   \n",
       "min       3.705570     3.910499     3.705570     3.775751     0.873765   \n",
       "25%      10.675270    10.807913    10.480868    10.607896     2.386555   \n",
       "50%      34.914051    35.444186    34.312809    34.850887    12.086423   \n",
       "75%      51.866982    52.586300    51.076497    51.834828    18.565130   \n",
       "max     161.486557   161.486557   161.486557   161.486557   131.750000   \n",
       "\n",
       "             Volume  \n",
       "count  6.960000e+03  \n",
       "mean   6.932547e+07  \n",
       "std    5.808903e+07  \n",
       "min    0.000000e+00  \n",
       "25%    3.254723e+07  \n",
       "50%    5.339005e+07  \n",
       "75%    8.688652e+07  \n",
       "max    6.428460e+08  "
      ]
     },
     "execution_count": 10,
     "metadata": {},
     "output_type": "execute_result"
    }
   ],
   "source": [
    "df.describe()"
   ]
  },
  {
   "cell_type": "code",
   "execution_count": 11,
   "id": "26478c59",
   "metadata": {},
   "outputs": [
    {
     "data": {
      "text/plain": [
       "Index(['Date', 'Open', 'High', 'Low', 'Close', 'Adj Close', 'Volume'], dtype='object')"
      ]
     },
     "execution_count": 11,
     "metadata": {},
     "output_type": "execute_result"
    }
   ],
   "source": [
    "df.columns"
   ]
  },
  {
   "cell_type": "code",
   "execution_count": 12,
   "id": "f651c0ac",
   "metadata": {},
   "outputs": [
    {
     "name": "stderr",
     "output_type": "stream",
     "text": [
      "C:\\Users\\DONAUG~1\\AppData\\Local\\Temp/ipykernel_37208/2501238634.py:3: SettingWithCopyWarning: \n",
      "A value is trying to be set on a copy of a slice from a DataFrame.\n",
      "Try using .loc[row_indexer,col_indexer] = value instead\n",
      "\n",
      "See the caveats in the documentation: https://pandas.pydata.org/pandas-docs/stable/user_guide/indexing.html#returning-a-view-versus-a-copy\n",
      "  data['Date'] = pd.to_datetime(data['Date'], format='%d-%m-%Y')  # Convert 'Date' column to datetime format\n"
     ]
    }
   ],
   "source": [
    "# Prepare data\n",
    "data = df[['Date', 'Close']]\n",
    "data['Date'] = pd.to_datetime(data['Date'], format='%d-%m-%Y')  # Convert 'Date' column to datetime format\n",
    "data.set_index('Date', inplace=True)\n"
   ]
  },
  {
   "cell_type": "code",
   "execution_count": 13,
   "id": "b15d5157",
   "metadata": {},
   "outputs": [],
   "source": [
    "# Splitting data into train and test sets\n",
    "train = data.iloc[:-90]\n",
    "test = data.iloc[-90:]"
   ]
  },
  {
   "cell_type": "code",
   "execution_count": 14,
   "id": "166eb9e6",
   "metadata": {},
   "outputs": [
    {
     "name": "stderr",
     "output_type": "stream",
     "text": [
      "C:\\Users\\DONAUG~1\\AppData\\Local\\Temp/ipykernel_37208/502344589.py:3: SettingWithCopyWarning: \n",
      "A value is trying to be set on a copy of a slice from a DataFrame.\n",
      "Try using .loc[row_indexer,col_indexer] = value instead\n",
      "\n",
      "See the caveats in the documentation: https://pandas.pydata.org/pandas-docs/stable/user_guide/indexing.html#returning-a-view-versus-a-copy\n",
      "  train[f'lag_{i}'] = train['Close'].shift(i)\n",
      "C:\\Users\\DONAUG~1\\AppData\\Local\\Temp/ipykernel_37208/502344589.py:4: SettingWithCopyWarning: \n",
      "A value is trying to be set on a copy of a slice from a DataFrame.\n",
      "Try using .loc[row_indexer,col_indexer] = value instead\n",
      "\n",
      "See the caveats in the documentation: https://pandas.pydata.org/pandas-docs/stable/user_guide/indexing.html#returning-a-view-versus-a-copy\n",
      "  test[f'lag_{i}'] = test['Close'].shift(i)\n"
     ]
    }
   ],
   "source": [
    "# Feature engineering: creating lagged features\n",
    "for i in range(1, 6):  # Creating lagged features from 1 to 5 days\n",
    "    train[f'lag_{i}'] = train['Close'].shift(i)\n",
    "    test[f'lag_{i}'] = test['Close'].shift(i)\n"
   ]
  },
  {
   "cell_type": "code",
   "execution_count": 15,
   "id": "8f135b97",
   "metadata": {},
   "outputs": [
    {
     "name": "stderr",
     "output_type": "stream",
     "text": [
      "C:\\ProgramData\\Anaconda3\\lib\\site-packages\\pandas\\util\\_decorators.py:311: SettingWithCopyWarning: \n",
      "A value is trying to be set on a copy of a slice from a DataFrame\n",
      "\n",
      "See the caveats in the documentation: https://pandas.pydata.org/pandas-docs/stable/user_guide/indexing.html#returning-a-view-versus-a-copy\n",
      "  return func(*args, **kwargs)\n"
     ]
    }
   ],
   "source": [
    "# Drop missing values due to lagging\n",
    "train.dropna(inplace=True)\n",
    "test.dropna(inplace=True)"
   ]
  },
  {
   "cell_type": "code",
   "execution_count": 16,
   "id": "7fcbd433",
   "metadata": {},
   "outputs": [],
   "source": [
    "# Split features and target variable\n",
    "X_train = train.drop('Close', axis=1)\n",
    "y_train = train['Close']\n",
    "X_test = test.drop('Close', axis=1)\n",
    "y_test = test['Close']"
   ]
  },
  {
   "cell_type": "code",
   "execution_count": 17,
   "id": "91ebb1ae",
   "metadata": {},
   "outputs": [],
   "source": [
    "# Linear Regression\n",
    "lr = LinearRegression()\n",
    "lr.fit(X_train, y_train)\n",
    "lr_pred = lr.predict(X_test)\n",
    "\n",
    "# Random Forest\n",
    "rf = RandomForestRegressor(n_estimators=100, random_state=42)\n",
    "rf.fit(X_train, y_train)\n",
    "rf_pred = rf.predict(X_test)\n",
    "\n",
    "# Support Vector Machine (SVM)\n",
    "svm = SVR(kernel='linear')\n",
    "svm.fit(X_train, y_train)\n",
    "svm_pred = svm.predict(X_test)"
   ]
  },
  {
   "cell_type": "code",
   "execution_count": 18,
   "id": "b95e4439",
   "metadata": {},
   "outputs": [
    {
     "name": "stdout",
     "output_type": "stream",
     "text": [
      "Linear Regression - MSE: 5.10, R2 Score: 0.84\n",
      "Random Forest - MSE: 3.91, R2 Score: 0.88\n",
      "Support Vector Machine - MSE: 2.41, R2 Score: 0.92\n"
     ]
    }
   ],
   "source": [
    "# Evaluate models\n",
    "def evaluate_model(y_true, y_pred, model_name):\n",
    "    mse = mean_squared_error(y_true, y_pred)\n",
    "    r2 = r2_score(y_true, y_pred)\n",
    "    print(f\"{model_name} - MSE: {mse:.2f}, R2 Score: {r2:.2f}\")\n",
    "\n",
    "evaluate_model(y_test, lr_pred, \"Linear Regression\")\n",
    "evaluate_model(y_test, rf_pred, \"Random Forest\")\n",
    "evaluate_model(y_test, svm_pred, \"Support Vector Machine\")"
   ]
  },
  {
   "cell_type": "code",
   "execution_count": 19,
   "id": "9e3803a1",
   "metadata": {},
   "outputs": [
    {
     "data": {
      "image/png": "[encoded data removed]",
      "text/plain": [
       "<Figure size 864x432 with 1 Axes>"
      ]
     },
     "metadata": {
      "needs_background": "light"
     },
     "output_type": "display_data"
    }
   ],
   "source": [
    "# Plotting predictions\n",
    "plt.figure(figsize=(12, 6))\n",
    "plt.plot(y_test.index, y_test.values, label='Actual')\n",
    "plt.plot(y_test.index, lr_pred, label='Linear Regression')\n",
    "plt.plot(y_test.index, rf_pred, label='Random Forest')\n",
    "plt.plot(y_test.index, svm_pred, label='Support Vector Machine')\n",
    "plt.xlabel('Date')\n",
    "plt.ylabel('Closing Price')\n",
    "plt.title('Stock Price Predictions')\n",
    "plt.legend()\n",
    "plt.show()"
   ]
  },
  {
   "cell_type": "code",
   "execution_count": null,
   "id": "76cd006b",
   "metadata": {},
   "outputs": [],
   "source": []
  }
 ],
 "metadata": {
  "kernelspec": {
   "display_name": "Python 3 (ipykernel)",
   "language": "python",
   "name": "python3"
  },
  "language_info": {
   "codemirror_mode": {
    "name": "ipython",
    "version": 3
   },
   "file_extension": ".py",
   "mimetype": "text/x-python",
   "name": "python",
   "nbconvert_exporter": "python",
   "pygments_lexer": "ipython3",
   "version": "3.9.7"
  }
 },
 "nbformat": 4,
 "nbformat_minor": 5
}
